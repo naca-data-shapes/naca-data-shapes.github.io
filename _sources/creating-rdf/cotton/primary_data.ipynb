{
 "cells": [
  {
   "cell_type": "markdown",
   "metadata": {
    "pycharm": {
     "name": "#%%\n"
    }
   },
   "source": [
    "# Example (synthetic) data sets\n",
    "For the purpose of this effort to create a common data shape on Glioblastoma, two synthetic data sets were provided. Synthetic datasets contain fabricated data that is represtable of actual data on the topic. \n",
    "\n",
    "In this chapter we will inspect the provided datasets and prepare them to by converted into linked data. As described earlier, linked data is data that follows a linked-data format consisting of triples where the individual parts consists of either values or identifiers (IRIs) pointing to concept definitions. \n",
    "\n",
    "The proces of converting data to linked data is rather straightforwards and can be summed up as follows:\n",
    "1. Inspect the data\n",
    "2. Clean the data headers\n",
    "3. Align the data with common controlled vocabularies or ontologies\n",
    "4. Design linked-data shapes using the IRIs from the controlled vocabularies and ontologies\n",
    "5. Transform the data into RDF\n",
    "\n",
    "In this chapter we will focus on the first two steps."
   ]
  },
  {
   "cell_type": "markdown",
   "metadata": {},
   "source": [
    "## Dataset on Cotton\n",
    "The first dataset is a provided csv file (Legacy_Cotton_VT_data.csv) ## TODO add a link.\n",
    "It contains legacy data on cotton harvests."
   ]
  },
  {
   "cell_type": "code",
   "execution_count": 4,
   "metadata": {
    "pycharm": {
     "name": "#%%\n"
    },
    "tags": [
     "remove-input"
    ]
   },
   "outputs": [
    {
     "name": "stderr",
     "output_type": "stream",
     "text": [
      "/var/folders/85/6rr6j2113qx4d9synl4rnc9r0000gn/T/ipykernel_23252/1347855427.py:2: ParserWarning: Length of header or names does not match length of data. This leads to a loss of data with index_col=False.\n",
      "  cotton = pd.read_csv(\"data/Legacy_Cotton_VT_data.csv\",index_col=False, on_bad_lines = 'skip')\n"
     ]
    },
    {
     "data": {
      "text/plain": "       OBJECTID LocationName             LatLong  Latitude  Longitude    City  \\\n0             1      Ac Drip   32.7457 -101.9396   32.7457  -101.9396  Lamesa   \n1             2      Ac Drip   32.7457 -101.9396   32.7457  -101.9396  Lamesa   \n2             3      Ac Drip   32.7457 -101.9396   32.7457  -101.9396  Lamesa   \n3             4      Ac Drip   32.7457 -101.9396   32.7457  -101.9396  Lamesa   \n4             5      Ac Drip   32.7457 -101.9396   32.7457  -101.9396  Lamesa   \n...         ...          ...                 ...       ...        ...     ...   \n43469     43470  Yuma County  32.8257 -113.52519   32.8257  -113.5252     NaN   \n43470     43471  Yuma County  32.8257 -113.52519   32.8257  -113.5252     NaN   \n43471     43472  Yuma County  32.8257 -113.52519   32.8257  -113.5252     NaN   \n43472     43473  Yuma County  32.8257 -113.52519   32.8257  -113.5252     NaN   \n43473     43474  Yuma County  32.8257 -113.52519   32.8257  -113.5252     NaN   \n\n       County    State             Name TestType  ...  Strength    UI Turnout  \\\n0      Dawson    Texas  OVT - Irrigated      OVT  ...      29.3  82.0    25.8   \n1      Dawson    Texas  OVT - Irrigated      OVT  ...      28.1  81.2    23.8   \n2      Dawson    Texas  OVT - Irrigated      OVT  ...      26.0  80.1    24.0   \n3      Dawson    Texas  OVT - Irrigated      OVT  ...      27.8  81.8    24.2   \n4      Dawson    Texas  OVT - Irrigated      OVT  ...      27.2  81.4    27.9   \n...       ...      ...              ...      ...  ...       ...   ...     ...   \n43469    Yuma  Arizona  OVT - Irrigated      OVT  ...      27.5  82.8    33.1   \n43470    Yuma  Arizona  OVT - Irrigated      OVT  ...      28.6  82.4    34.8   \n43471    Yuma  Arizona  OVT - Irrigated      OVT  ...      28.3  82.8    32.4   \n43472    Yuma  Arizona  OVT - Irrigated      OVT  ...      28.2  83.2    29.6   \n43473    Yuma  Arizona  OVT - Irrigated      OVT  ...      30.0  82.3    33.1   \n\n      GrossIncome Irrigated IrrigationType  Year ZIP Code  Test Result ID  \\\n0         796.496    YesIrr   NotSpecified  2008  79331.0           46899   \n1         705.159    YesIrr   NotSpecified  2008  79331.0           46900   \n2         884.780    YesIrr   NotSpecified  2008  79331.0           46901   \n3         733.869    YesIrr   NotSpecified  2008  79331.0           46902   \n4         972.725    YesIrr   NotSpecified  2008  79331.0           46903   \n...           ...       ...            ...   ...      ...             ...   \n43469     950.982    YesIrr   NotSpecified  2008  85333.0           30074   \n43470     922.315    YesIrr   NotSpecified  2008  85333.0           30075   \n43471     817.002    YesIrr   NotSpecified  2008  85333.0           30076   \n43472     816.542    YesIrr   NotSpecified  2008  85333.0           30077   \n43473     775.964    YesIrr   NotSpecified  2008  85333.0           30078   \n\n       Test ID  \n0         3126  \n1         3126  \n2         3126  \n3         3126  \n4         3126  \n...        ...  \n43469     2196  \n43470     2196  \n43471     2196  \n43472     2196  \n43473     2196  \n\n[43474 rows x 40 columns]",
      "text/html": "<div>\n<style scoped>\n    .dataframe tbody tr th:only-of-type {\n        vertical-align: middle;\n    }\n\n    .dataframe tbody tr th {\n        vertical-align: top;\n    }\n\n    .dataframe thead th {\n        text-align: right;\n    }\n</style>\n<table border=\"1\" class=\"dataframe\">\n  <thead>\n    <tr style=\"text-align: right;\">\n      <th></th>\n      <th>OBJECTID</th>\n      <th>LocationName</th>\n      <th>LatLong</th>\n      <th>Latitude</th>\n      <th>Longitude</th>\n      <th>City</th>\n      <th>County</th>\n      <th>State</th>\n      <th>Name</th>\n      <th>TestType</th>\n      <th>...</th>\n      <th>Strength</th>\n      <th>UI</th>\n      <th>Turnout</th>\n      <th>GrossIncome</th>\n      <th>Irrigated</th>\n      <th>IrrigationType</th>\n      <th>Year</th>\n      <th>ZIP Code</th>\n      <th>Test Result ID</th>\n      <th>Test ID</th>\n    </tr>\n  </thead>\n  <tbody>\n    <tr>\n      <th>0</th>\n      <td>1</td>\n      <td>Ac Drip</td>\n      <td>32.7457 -101.9396</td>\n      <td>32.7457</td>\n      <td>-101.9396</td>\n      <td>Lamesa</td>\n      <td>Dawson</td>\n      <td>Texas</td>\n      <td>OVT - Irrigated</td>\n      <td>OVT</td>\n      <td>...</td>\n      <td>29.3</td>\n      <td>82.0</td>\n      <td>25.8</td>\n      <td>796.496</td>\n      <td>YesIrr</td>\n      <td>NotSpecified</td>\n      <td>2008</td>\n      <td>79331.0</td>\n      <td>46899</td>\n      <td>3126</td>\n    </tr>\n    <tr>\n      <th>1</th>\n      <td>2</td>\n      <td>Ac Drip</td>\n      <td>32.7457 -101.9396</td>\n      <td>32.7457</td>\n      <td>-101.9396</td>\n      <td>Lamesa</td>\n      <td>Dawson</td>\n      <td>Texas</td>\n      <td>OVT - Irrigated</td>\n      <td>OVT</td>\n      <td>...</td>\n      <td>28.1</td>\n      <td>81.2</td>\n      <td>23.8</td>\n      <td>705.159</td>\n      <td>YesIrr</td>\n      <td>NotSpecified</td>\n      <td>2008</td>\n      <td>79331.0</td>\n      <td>46900</td>\n      <td>3126</td>\n    </tr>\n    <tr>\n      <th>2</th>\n      <td>3</td>\n      <td>Ac Drip</td>\n      <td>32.7457 -101.9396</td>\n      <td>32.7457</td>\n      <td>-101.9396</td>\n      <td>Lamesa</td>\n      <td>Dawson</td>\n      <td>Texas</td>\n      <td>OVT - Irrigated</td>\n      <td>OVT</td>\n      <td>...</td>\n      <td>26.0</td>\n      <td>80.1</td>\n      <td>24.0</td>\n      <td>884.780</td>\n      <td>YesIrr</td>\n      <td>NotSpecified</td>\n      <td>2008</td>\n      <td>79331.0</td>\n      <td>46901</td>\n      <td>3126</td>\n    </tr>\n    <tr>\n      <th>3</th>\n      <td>4</td>\n      <td>Ac Drip</td>\n      <td>32.7457 -101.9396</td>\n      <td>32.7457</td>\n      <td>-101.9396</td>\n      <td>Lamesa</td>\n      <td>Dawson</td>\n      <td>Texas</td>\n      <td>OVT - Irrigated</td>\n      <td>OVT</td>\n      <td>...</td>\n      <td>27.8</td>\n      <td>81.8</td>\n      <td>24.2</td>\n      <td>733.869</td>\n      <td>YesIrr</td>\n      <td>NotSpecified</td>\n      <td>2008</td>\n      <td>79331.0</td>\n      <td>46902</td>\n      <td>3126</td>\n    </tr>\n    <tr>\n      <th>4</th>\n      <td>5</td>\n      <td>Ac Drip</td>\n      <td>32.7457 -101.9396</td>\n      <td>32.7457</td>\n      <td>-101.9396</td>\n      <td>Lamesa</td>\n      <td>Dawson</td>\n      <td>Texas</td>\n      <td>OVT - Irrigated</td>\n      <td>OVT</td>\n      <td>...</td>\n      <td>27.2</td>\n      <td>81.4</td>\n      <td>27.9</td>\n      <td>972.725</td>\n      <td>YesIrr</td>\n      <td>NotSpecified</td>\n      <td>2008</td>\n      <td>79331.0</td>\n      <td>46903</td>\n      <td>3126</td>\n    </tr>\n    <tr>\n      <th>...</th>\n      <td>...</td>\n      <td>...</td>\n      <td>...</td>\n      <td>...</td>\n      <td>...</td>\n      <td>...</td>\n      <td>...</td>\n      <td>...</td>\n      <td>...</td>\n      <td>...</td>\n      <td>...</td>\n      <td>...</td>\n      <td>...</td>\n      <td>...</td>\n      <td>...</td>\n      <td>...</td>\n      <td>...</td>\n      <td>...</td>\n      <td>...</td>\n      <td>...</td>\n      <td>...</td>\n    </tr>\n    <tr>\n      <th>43469</th>\n      <td>43470</td>\n      <td>Yuma County</td>\n      <td>32.8257 -113.52519</td>\n      <td>32.8257</td>\n      <td>-113.5252</td>\n      <td>NaN</td>\n      <td>Yuma</td>\n      <td>Arizona</td>\n      <td>OVT - Irrigated</td>\n      <td>OVT</td>\n      <td>...</td>\n      <td>27.5</td>\n      <td>82.8</td>\n      <td>33.1</td>\n      <td>950.982</td>\n      <td>YesIrr</td>\n      <td>NotSpecified</td>\n      <td>2008</td>\n      <td>85333.0</td>\n      <td>30074</td>\n      <td>2196</td>\n    </tr>\n    <tr>\n      <th>43470</th>\n      <td>43471</td>\n      <td>Yuma County</td>\n      <td>32.8257 -113.52519</td>\n      <td>32.8257</td>\n      <td>-113.5252</td>\n      <td>NaN</td>\n      <td>Yuma</td>\n      <td>Arizona</td>\n      <td>OVT - Irrigated</td>\n      <td>OVT</td>\n      <td>...</td>\n      <td>28.6</td>\n      <td>82.4</td>\n      <td>34.8</td>\n      <td>922.315</td>\n      <td>YesIrr</td>\n      <td>NotSpecified</td>\n      <td>2008</td>\n      <td>85333.0</td>\n      <td>30075</td>\n      <td>2196</td>\n    </tr>\n    <tr>\n      <th>43471</th>\n      <td>43472</td>\n      <td>Yuma County</td>\n      <td>32.8257 -113.52519</td>\n      <td>32.8257</td>\n      <td>-113.5252</td>\n      <td>NaN</td>\n      <td>Yuma</td>\n      <td>Arizona</td>\n      <td>OVT - Irrigated</td>\n      <td>OVT</td>\n      <td>...</td>\n      <td>28.3</td>\n      <td>82.8</td>\n      <td>32.4</td>\n      <td>817.002</td>\n      <td>YesIrr</td>\n      <td>NotSpecified</td>\n      <td>2008</td>\n      <td>85333.0</td>\n      <td>30076</td>\n      <td>2196</td>\n    </tr>\n    <tr>\n      <th>43472</th>\n      <td>43473</td>\n      <td>Yuma County</td>\n      <td>32.8257 -113.52519</td>\n      <td>32.8257</td>\n      <td>-113.5252</td>\n      <td>NaN</td>\n      <td>Yuma</td>\n      <td>Arizona</td>\n      <td>OVT - Irrigated</td>\n      <td>OVT</td>\n      <td>...</td>\n      <td>28.2</td>\n      <td>83.2</td>\n      <td>29.6</td>\n      <td>816.542</td>\n      <td>YesIrr</td>\n      <td>NotSpecified</td>\n      <td>2008</td>\n      <td>85333.0</td>\n      <td>30077</td>\n      <td>2196</td>\n    </tr>\n    <tr>\n      <th>43473</th>\n      <td>43474</td>\n      <td>Yuma County</td>\n      <td>32.8257 -113.52519</td>\n      <td>32.8257</td>\n      <td>-113.5252</td>\n      <td>NaN</td>\n      <td>Yuma</td>\n      <td>Arizona</td>\n      <td>OVT - Irrigated</td>\n      <td>OVT</td>\n      <td>...</td>\n      <td>30.0</td>\n      <td>82.3</td>\n      <td>33.1</td>\n      <td>775.964</td>\n      <td>YesIrr</td>\n      <td>NotSpecified</td>\n      <td>2008</td>\n      <td>85333.0</td>\n      <td>30078</td>\n      <td>2196</td>\n    </tr>\n  </tbody>\n</table>\n<p>43474 rows × 40 columns</p>\n</div>"
     },
     "execution_count": 4,
     "metadata": {},
     "output_type": "execute_result"
    }
   ],
   "source": [
    "import pandas as pd\n",
    "cotton = pd.read_csv(\"data/Legacy_Cotton_VT_data.csv\",index_col=False, on_bad_lines = 'skip')\n",
    "cotton"
   ]
  },
  {
   "cell_type": "code",
   "execution_count": 5,
   "metadata": {
    "tags": [
     "remove-input"
    ]
   },
   "outputs": [
    {
     "name": "stdout",
     "output_type": "stream",
     "text": [
      "<class 'pandas.core.frame.DataFrame'>\n",
      "RangeIndex: 43474 entries, 0 to 43473\n",
      "Data columns (total 40 columns):\n",
      " #   Column              Non-Null Count  Dtype  \n",
      "---  ------              --------------  -----  \n",
      " 0   OBJECTID            43474 non-null  int64  \n",
      " 1   LocationName        43474 non-null  object \n",
      " 2   LatLong             43474 non-null  object \n",
      " 3   Latitude            43474 non-null  float64\n",
      " 4   Longitude           43474 non-null  float64\n",
      " 5   City                29623 non-null  object \n",
      " 6   County              43474 non-null  object \n",
      " 7   State               43474 non-null  object \n",
      " 8   Name                43474 non-null  object \n",
      " 9   TestType            43474 non-null  object \n",
      " 10  EntryNumber         43474 non-null  int64  \n",
      " 11  Brand               43474 non-null  object \n",
      " 12  Trait               43473 non-null  object \n",
      " 13  Product             43474 non-null  object \n",
      " 14  Soil                32971 non-null  object \n",
      " 15  Tillage             32971 non-null  object \n",
      " 16  PlantingDate        11914 non-null  float64\n",
      " 17  HarvestDate         11743 non-null  object \n",
      " 18  ValuePerac          43474 non-null  float64\n",
      " 19  SeedingRatePerAcre  836 non-null    float64\n",
      " 20  PercentBollOpened   1235 non-null   float64\n",
      " 21  StormTolerance      595 non-null    float64\n",
      " 22  Yield               43474 non-null  int64  \n",
      " 23  Elongation          11341 non-null  float64\n",
      " 24  HVIColor            43474 non-null  int64  \n",
      " 25  Leaf                43474 non-null  int64  \n",
      " 26  Length              38837 non-null  float64\n",
      " 27  LintFraction        42391 non-null  float64\n",
      " 28  LoanValue           38761 non-null  float64\n",
      " 29  Mic                 39394 non-null  float64\n",
      " 30  Strength            39364 non-null  float64\n",
      " 31  UI                  39330 non-null  float64\n",
      " 32  Turnout             42391 non-null  float64\n",
      " 33  GrossIncome         43474 non-null  float64\n",
      " 34  Irrigated           43474 non-null  object \n",
      " 35  IrrigationType      17429 non-null  object \n",
      " 36  Year                43474 non-null  int64  \n",
      " 37  ZIP Code            32971 non-null  float64\n",
      " 38  Test Result ID      43474 non-null  int64  \n",
      " 39  Test ID             43474 non-null  int64  \n",
      "dtypes: float64(17), int64(8), object(15)\n",
      "memory usage: 13.3+ MB\n"
     ]
    }
   ],
   "source": [
    "cotton.info()"
   ]
  },
  {
   "cell_type": "markdown",
   "metadata": {},
   "source": [
    "This dataset contains 39 fields of various datatypes. In one of the next steps this field names will be alligned with various controlled vocabularies and ontologies."
   ]
  },
  {
   "cell_type": "markdown",
   "metadata": {
    "pycharm": {
     "name": "#%% md\n"
    }
   },
   "source": [
    "In this chapter we have reviewed and possibly cleaned the source data. In the next chapter these terms will be use to identify IRIs that unambiguously point to the definitions of these field labels. In this stage of the project we need to be a bit creative here. Some crucial information such as conditionals or units have been removed, but these are needed in the semantic models that will be derived.\n",
    "\n",
    "Moving forward the project should design a common tabular format that, next to field labels, also captures these conditionals, units and cardinality. \n",
    "\n",
    "Eventually this book should contain a chapter that describes this tabular format. \n",
    "\n",
    "Eventually the steps described in this chapter will be redundant. Moving forward performers in the different PDAs, ideally will build on a predefined tabular format where the field names are selected from the provided codebook. \n"
   ]
  }
 ],
 "metadata": {
  "celltoolbar": "Tags",
  "kernelspec": {
   "display_name": "Python 3 (ipykernel)",
   "language": "python",
   "name": "python3"
  },
  "language_info": {
   "codemirror_mode": {
    "name": "ipython",
    "version": 3
   },
   "file_extension": ".py",
   "mimetype": "text/x-python",
   "name": "python",
   "nbconvert_exporter": "python",
   "pygments_lexer": "ipython3",
   "version": "3.8.9"
  }
 },
 "nbformat": 4,
 "nbformat_minor": 1
}