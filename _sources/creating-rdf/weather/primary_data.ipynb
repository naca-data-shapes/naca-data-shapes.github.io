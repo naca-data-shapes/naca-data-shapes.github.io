{
 "cells": [
  {
   "cell_type": "markdown",
   "metadata": {
    "pycharm": {
     "name": "#%%\n"
    }
   },
   "source": [
    "# Example (synthetic) data sets\n",
    "The purpose of this effort to create a schema for weather data related to one location, Lamesa, TX, mentioned in the Legacy Cotton Dataset. \n",
    "\n",
    "In this chapter we will inspect the provided dataset and prepare it to be converted into linked data. As described earlier, linked data is data that follows a linked-data format consisting of triples where the individual parts consists of either values or identifiers (IRIs) pointing to concept definitions. \n",
    "\n",
    "The proces of converting data to linked data is rather straightforward and can be summed up as follows:\n",
    "1. Inspect the data\n",
    "2. Clean the data headers\n",
    "3. Align the data with common controlled vocabularies or ontologies\n",
    "4. Design linked-data shapes using the IRIs from the controlled vocabularies and ontologies\n",
    "5. Transform the data into RDF\n",
    "\n",
    "In this chapter we will focus on the first two steps."
   ]
  },
  {
   "cell_type": "markdown",
   "metadata": {},
   "source": [
    "## Dataset on Weather\n",
    "The first dataset is a  csv file (Dawson3242890.csv).\n",
    "It contains weather data for Lamesa, TX for March1- October 30, 2010."
   ]
  },
  {
   "cell_type": "code",
   "execution_count": 1,
   "metadata": {
    "pycharm": {
     "name": "#%%\n"
    },
    "tags": [
     "remove-input"
    ]
   },
   "outputs": [
    {
     "data": {
      "text/plain": "                            NAME        DATE  DAPR  MDPR  PRCP  SNOW  SNWD  \\\nSTATION                                                                      \nUSC00415013  LAMESA 1 SSE, TX US  2010-03-01   NaN   NaN  0.44   0.0   0.0   \nUSC00415013  LAMESA 1 SSE, TX US  2010-03-02   NaN   NaN  0.02   0.0   0.0   \nUSC00415013  LAMESA 1 SSE, TX US  2010-03-03   NaN   NaN  0.00   0.0   0.0   \nUSC00415013  LAMESA 1 SSE, TX US  2010-03-04   NaN   NaN  0.00   0.0   0.0   \nUSC00415013  LAMESA 1 SSE, TX US  2010-03-05   NaN   NaN  0.00   0.0   0.0   \n...                          ...         ...   ...   ...   ...   ...   ...   \nUSC00415013  LAMESA 1 SSE, TX US  2010-10-27   NaN   NaN  0.00   0.0   0.0   \nUSC00415013  LAMESA 1 SSE, TX US  2010-10-28   NaN   NaN  0.00   0.0   0.0   \nUSC00415013  LAMESA 1 SSE, TX US  2010-10-29   NaN   NaN  0.00   0.0   0.0   \nUSC00415013  LAMESA 1 SSE, TX US  2010-10-30   NaN   NaN  0.00   0.0   0.0   \nUSC00415013  LAMESA 1 SSE, TX US  2010-10-31   NaN   NaN  0.00   0.0   0.0   \n\n             TMAX  TMIN  TOBS  WT01  WT11  \nSTATION                                    \nUSC00415013    60  36.0  36.0   NaN   NaN  \nUSC00415013    41  27.0  27.0   NaN   NaN  \nUSC00415013    59  27.0  33.0   NaN   NaN  \nUSC00415013    68  33.0  35.0   NaN   NaN  \nUSC00415013    71  33.0  43.0   NaN   NaN  \n...           ...   ...   ...   ...   ...  \nUSC00415013    74  40.0  47.0   NaN   NaN  \nUSC00415013    76  40.0  40.0   NaN   NaN  \nUSC00415013    67  32.0  32.0   NaN   NaN  \nUSC00415013    73  32.0  45.0   NaN   NaN  \nUSC00415013    90  39.0  45.0   NaN   NaN  \n\n[245 rows x 12 columns]",
      "text/html": "<div>\n<style scoped>\n    .dataframe tbody tr th:only-of-type {\n        vertical-align: middle;\n    }\n\n    .dataframe tbody tr th {\n        vertical-align: top;\n    }\n\n    .dataframe thead th {\n        text-align: right;\n    }\n</style>\n<table border=\"1\" class=\"dataframe\">\n  <thead>\n    <tr style=\"text-align: right;\">\n      <th></th>\n      <th>NAME</th>\n      <th>DATE</th>\n      <th>DAPR</th>\n      <th>MDPR</th>\n      <th>PRCP</th>\n      <th>SNOW</th>\n      <th>SNWD</th>\n      <th>TMAX</th>\n      <th>TMIN</th>\n      <th>TOBS</th>\n      <th>WT01</th>\n      <th>WT11</th>\n    </tr>\n    <tr>\n      <th>STATION</th>\n      <th></th>\n      <th></th>\n      <th></th>\n      <th></th>\n      <th></th>\n      <th></th>\n      <th></th>\n      <th></th>\n      <th></th>\n      <th></th>\n      <th></th>\n      <th></th>\n    </tr>\n  </thead>\n  <tbody>\n    <tr>\n      <th>USC00415013</th>\n      <td>LAMESA 1 SSE, TX US</td>\n      <td>2010-03-01</td>\n      <td>NaN</td>\n      <td>NaN</td>\n      <td>0.44</td>\n      <td>0.0</td>\n      <td>0.0</td>\n      <td>60</td>\n      <td>36.0</td>\n      <td>36.0</td>\n      <td>NaN</td>\n      <td>NaN</td>\n    </tr>\n    <tr>\n      <th>USC00415013</th>\n      <td>LAMESA 1 SSE, TX US</td>\n      <td>2010-03-02</td>\n      <td>NaN</td>\n      <td>NaN</td>\n      <td>0.02</td>\n      <td>0.0</td>\n      <td>0.0</td>\n      <td>41</td>\n      <td>27.0</td>\n      <td>27.0</td>\n      <td>NaN</td>\n      <td>NaN</td>\n    </tr>\n    <tr>\n      <th>USC00415013</th>\n      <td>LAMESA 1 SSE, TX US</td>\n      <td>2010-03-03</td>\n      <td>NaN</td>\n      <td>NaN</td>\n      <td>0.00</td>\n      <td>0.0</td>\n      <td>0.0</td>\n      <td>59</td>\n      <td>27.0</td>\n      <td>33.0</td>\n      <td>NaN</td>\n      <td>NaN</td>\n    </tr>\n    <tr>\n      <th>USC00415013</th>\n      <td>LAMESA 1 SSE, TX US</td>\n      <td>2010-03-04</td>\n      <td>NaN</td>\n      <td>NaN</td>\n      <td>0.00</td>\n      <td>0.0</td>\n      <td>0.0</td>\n      <td>68</td>\n      <td>33.0</td>\n      <td>35.0</td>\n      <td>NaN</td>\n      <td>NaN</td>\n    </tr>\n    <tr>\n      <th>USC00415013</th>\n      <td>LAMESA 1 SSE, TX US</td>\n      <td>2010-03-05</td>\n      <td>NaN</td>\n      <td>NaN</td>\n      <td>0.00</td>\n      <td>0.0</td>\n      <td>0.0</td>\n      <td>71</td>\n      <td>33.0</td>\n      <td>43.0</td>\n      <td>NaN</td>\n      <td>NaN</td>\n    </tr>\n    <tr>\n      <th>...</th>\n      <td>...</td>\n      <td>...</td>\n      <td>...</td>\n      <td>...</td>\n      <td>...</td>\n      <td>...</td>\n      <td>...</td>\n      <td>...</td>\n      <td>...</td>\n      <td>...</td>\n      <td>...</td>\n      <td>...</td>\n    </tr>\n    <tr>\n      <th>USC00415013</th>\n      <td>LAMESA 1 SSE, TX US</td>\n      <td>2010-10-27</td>\n      <td>NaN</td>\n      <td>NaN</td>\n      <td>0.00</td>\n      <td>0.0</td>\n      <td>0.0</td>\n      <td>74</td>\n      <td>40.0</td>\n      <td>47.0</td>\n      <td>NaN</td>\n      <td>NaN</td>\n    </tr>\n    <tr>\n      <th>USC00415013</th>\n      <td>LAMESA 1 SSE, TX US</td>\n      <td>2010-10-28</td>\n      <td>NaN</td>\n      <td>NaN</td>\n      <td>0.00</td>\n      <td>0.0</td>\n      <td>0.0</td>\n      <td>76</td>\n      <td>40.0</td>\n      <td>40.0</td>\n      <td>NaN</td>\n      <td>NaN</td>\n    </tr>\n    <tr>\n      <th>USC00415013</th>\n      <td>LAMESA 1 SSE, TX US</td>\n      <td>2010-10-29</td>\n      <td>NaN</td>\n      <td>NaN</td>\n      <td>0.00</td>\n      <td>0.0</td>\n      <td>0.0</td>\n      <td>67</td>\n      <td>32.0</td>\n      <td>32.0</td>\n      <td>NaN</td>\n      <td>NaN</td>\n    </tr>\n    <tr>\n      <th>USC00415013</th>\n      <td>LAMESA 1 SSE, TX US</td>\n      <td>2010-10-30</td>\n      <td>NaN</td>\n      <td>NaN</td>\n      <td>0.00</td>\n      <td>0.0</td>\n      <td>0.0</td>\n      <td>73</td>\n      <td>32.0</td>\n      <td>45.0</td>\n      <td>NaN</td>\n      <td>NaN</td>\n    </tr>\n    <tr>\n      <th>USC00415013</th>\n      <td>LAMESA 1 SSE, TX US</td>\n      <td>2010-10-31</td>\n      <td>NaN</td>\n      <td>NaN</td>\n      <td>0.00</td>\n      <td>0.0</td>\n      <td>0.0</td>\n      <td>90</td>\n      <td>39.0</td>\n      <td>45.0</td>\n      <td>NaN</td>\n      <td>NaN</td>\n    </tr>\n  </tbody>\n</table>\n<p>245 rows × 12 columns</p>\n</div>"
     },
     "execution_count": 1,
     "metadata": {},
     "output_type": "execute_result"
    }
   ],
   "source": [
    "import pandas as pd\n",
    "weather = pd.read_csv(\"data/Dawson3242890.csv\",index_col=0)\n",
    "weather"
   ]
  },
  {
   "cell_type": "code",
   "execution_count": 2,
   "metadata": {
    "tags": [
     "remove-input"
    ]
   },
   "outputs": [
    {
     "name": "stdout",
     "output_type": "stream",
     "text": [
      "<class 'pandas.core.frame.DataFrame'>\n",
      "Index: 245 entries, USC00415013 to USC00415013\n",
      "Data columns (total 12 columns):\n",
      " #   Column  Non-Null Count  Dtype  \n",
      "---  ------  --------------  -----  \n",
      " 0   NAME    245 non-null    object \n",
      " 1   DATE    245 non-null    object \n",
      " 2   DAPR    0 non-null      float64\n",
      " 3   MDPR    0 non-null      float64\n",
      " 4   PRCP    245 non-null    float64\n",
      " 5   SNOW    245 non-null    float64\n",
      " 6   SNWD    245 non-null    float64\n",
      " 7   TMAX    245 non-null    int64  \n",
      " 8   TMIN    244 non-null    float64\n",
      " 9   TOBS    241 non-null    float64\n",
      " 10  WT01    0 non-null      float64\n",
      " 11  WT11    0 non-null      float64\n",
      "dtypes: float64(9), int64(1), object(2)\n",
      "memory usage: 24.9+ KB\n"
     ]
    }
   ],
   "source": [
    "weather.info()"
   ]
  },
  {
   "cell_type": "markdown",
   "metadata": {},
   "source": [
    "This dataset contains 11 fields of various datatypes. In one of the next steps this field names will be alligned with various controlled vocabularies or ontologies."
   ]
  },
  {
   "cell_type": "markdown",
   "metadata": {
    "pycharm": {
     "name": "#%% md\n"
    }
   },
   "source": [
    "In this chapter we have reviewed and possibly cleaned the source data. In the next chapter these terms will be use to identify IRIs that unambiguously point to the definitions of these field labels. In this stage of the project we need to be a bit creative here. Some crucial information such as conditionals or units have been removed, but these are needed in the semantic models that will be derived.\n",
    "\n",
    "Moving forward the project should design a common tabular format that, next to field labels, also captures these conditionals, units and cardinality. \n",
    "\n",
    "Eventually this book should contain a chapter that describes this tabular format. \n",
    "\n",
    "Eventually the steps described in this chapter will be redundant. Moving forward performers in the different PDAs, ideally will build on a predefined tabular format where the field names are selected from the provided codebook. \n",
    "\n",
    "## NALT shapes and  codebook\n",
    "The DT codebook will be a listing of selected field names. Data curators will be able to select field names from this codebook. Non-existing field names can be requested. \n"
   ]
  }
 ],
 "metadata": {
  "celltoolbar": "Tags",
  "kernelspec": {
   "display_name": "Python 3 (ipykernel)",
   "language": "python",
   "name": "python3"
  },
  "language_info": {
   "codemirror_mode": {
    "name": "ipython",
    "version": 3
   },
   "file_extension": ".py",
   "mimetype": "text/x-python",
   "name": "python",
   "nbconvert_exporter": "python",
   "pygments_lexer": "ipython3",
   "version": "3.8.9"
  }
 },
 "nbformat": 4,
 "nbformat_minor": 1
}