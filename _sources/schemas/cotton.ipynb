{
 "cells": [
  {
   "cell_type": "code",
   "execution_count": 1,
   "metadata": {
    "collapsed": true
   },
   "outputs": [
    {
     "name": "stdout",
     "output_type": "stream",
     "text": [
      "Requirement already satisfied: shexviz in /Users/andra/projects/scheduled-bots/venv/lib/python3.8/site-packages (0.0.5)\r\n",
      "Requirement already satisfied: graphviz in /Users/andra/projects/scheduled-bots/venv/lib/python3.8/site-packages (from shexviz) (0.20.1)\r\n",
      "Requirement already satisfied: ShExJSG in /Users/andra/projects/scheduled-bots/venv/lib/python3.8/site-packages (from shexviz) (0.8.2)\r\n",
      "Requirement already satisfied: pyshex in /Users/andra/projects/scheduled-bots/venv/lib/python3.8/site-packages (from shexviz) (0.8.1)\r\n",
      "Requirement already satisfied: sparqlwrapper>=1.8.5 in /Users/andra/projects/scheduled-bots/venv/lib/python3.8/site-packages (from pyshex->shexviz) (2.0.0)\r\n",
      "Requirement already satisfied: pyshexc==0.9.1 in /Users/andra/projects/scheduled-bots/venv/lib/python3.8/site-packages (from pyshex->shexviz) (0.9.1)\r\n",
      "Requirement already satisfied: sparqlslurper>=0.5.1 in /Users/andra/projects/scheduled-bots/venv/lib/python3.8/site-packages (from pyshex->shexviz) (0.5.1)\r\n",
      "Requirement already satisfied: rdflib-shim in /Users/andra/projects/scheduled-bots/venv/lib/python3.8/site-packages (from pyshex->shexviz) (1.0.3)\r\n",
      "Requirement already satisfied: urllib3 in /Users/andra/projects/scheduled-bots/venv/lib/python3.8/site-packages (from pyshex->shexviz) (1.26.14)\r\n",
      "Requirement already satisfied: cfgraph>=0.2.1 in /Users/andra/projects/scheduled-bots/venv/lib/python3.8/site-packages (from pyshex->shexviz) (0.2.1)\r\n",
      "Requirement already satisfied: requests>=2.22.0 in /Users/andra/projects/scheduled-bots/venv/lib/python3.8/site-packages (from pyshex->shexviz) (2.28.2)\r\n",
      "Requirement already satisfied: chardet in /Users/andra/projects/scheduled-bots/venv/lib/python3.8/site-packages (from pyshex->shexviz) (5.1.0)\r\n",
      "Requirement already satisfied: antlr4-python3-runtime~=4.9.3 in /Users/andra/projects/scheduled-bots/venv/lib/python3.8/site-packages (from pyshexc==0.9.1->pyshex->shexviz) (4.9.3)\r\n",
      "Requirement already satisfied: pyjsg>=0.11.10 in /Users/andra/projects/scheduled-bots/venv/lib/python3.8/site-packages (from pyshexc==0.9.1->pyshex->shexviz) (0.11.10)\r\n",
      "Requirement already satisfied: jsonasobj>=1.2.1 in /Users/andra/projects/scheduled-bots/venv/lib/python3.8/site-packages (from pyshexc==0.9.1->pyshex->shexviz) (2.0.1)\r\n",
      "Requirement already satisfied: rdflib>=0.4.2 in /Users/andra/projects/scheduled-bots/venv/lib/python3.8/site-packages (from cfgraph>=0.2.1->pyshex->shexviz) (6.2.0)\r\n",
      "Requirement already satisfied: idna<4,>=2.5 in /Users/andra/projects/scheduled-bots/venv/lib/python3.8/site-packages (from requests>=2.22.0->pyshex->shexviz) (3.4)\r\n",
      "Requirement already satisfied: certifi>=2017.4.17 in /Users/andra/projects/scheduled-bots/venv/lib/python3.8/site-packages (from requests>=2.22.0->pyshex->shexviz) (2022.12.7)\r\n",
      "Requirement already satisfied: charset-normalizer<4,>=2 in /Users/andra/projects/scheduled-bots/venv/lib/python3.8/site-packages (from requests>=2.22.0->pyshex->shexviz) (2.1.1)\r\n",
      "Requirement already satisfied: rdflib-jsonld==0.6.1 in /Users/andra/projects/scheduled-bots/venv/lib/python3.8/site-packages (from rdflib-shim->pyshex->shexviz) (0.6.1)\r\n",
      "Requirement already satisfied: hbreader in /Users/andra/projects/scheduled-bots/venv/lib/python3.8/site-packages (from jsonasobj>=1.2.1->pyshexc==0.9.1->pyshex->shexviz) (0.9.1)\r\n",
      "Requirement already satisfied: setuptools in /Users/andra/projects/scheduled-bots/venv/lib/python3.8/site-packages (from rdflib>=0.4.2->cfgraph>=0.2.1->pyshex->shexviz) (66.1.1)\r\n",
      "Requirement already satisfied: pyparsing in /Users/andra/projects/scheduled-bots/venv/lib/python3.8/site-packages (from rdflib>=0.4.2->cfgraph>=0.2.1->pyshex->shexviz) (3.0.9)\r\n",
      "Requirement already satisfied: isodate in /Users/andra/projects/scheduled-bots/venv/lib/python3.8/site-packages (from rdflib>=0.4.2->cfgraph>=0.2.1->pyshex->shexviz) (0.6.1)\r\n",
      "Requirement already satisfied: six in /Users/andra/projects/scheduled-bots/venv/lib/python3.8/site-packages (from isodate->rdflib>=0.4.2->cfgraph>=0.2.1->pyshex->shexviz) (1.16.0)\r\n",
      "\r\n",
      "\u001B[1m[\u001B[0m\u001B[34;49mnotice\u001B[0m\u001B[1;39;49m]\u001B[0m\u001B[39;49m A new release of pip available: \u001B[0m\u001B[31;49m22.3.1\u001B[0m\u001B[39;49m -> \u001B[0m\u001B[32;49m23.0\u001B[0m\r\n",
      "\u001B[1m[\u001B[0m\u001B[34;49mnotice\u001B[0m\u001B[1;39;49m]\u001B[0m\u001B[39;49m To update, run: \u001B[0m\u001B[32;49mpip install --upgrade pip\u001B[0m\r\n"
     ]
    }
   ],
   "source": [
    "!pip install shexviz"
   ]
  },
  {
   "cell_type": "markdown",
   "source": [
    "# Production Shape\n",
    "* OBJECTID\n",
    "* Date of planting\n",
    "* Date of harvest\n",
    "* SeedingRatePerAcre\n",
    "* PercentBallOpened\n"
   ],
   "metadata": {
    "collapsed": false,
    "pycharm": {
     "name": "#%% md\n"
    }
   }
  },
  {
   "cell_type": "code",
   "execution_count": 4,
   "outputs": [
    {
     "name": "stdout",
     "output_type": "stream",
     "text": [
      " dct: <http://purl.org/dc/terms/>\n",
      " xsd: <http://www.w3.org/2001/XMLSchema#>\n",
      " rdf: <http://www.w3.org/1999/02/22-rdf-syntax-ns#>\n",
      " qudt: <http://qudt.org/schema/qudt/>\n",
      " nalt: <https://lod.nal.usda.gov/nalt/>\n",
      " unit: <http://qudt.org/vocab/unit/>\n",
      " schema: <http://schema.org/>\n"
     ]
    },
    {
     "name": "stderr",
     "output_type": "stream",
     "text": [
      "line 9:9 extraneous input '@productionShape' expecting {<EOF>, KW_ABSTRACT, KW_BASE, KW_IMPORT, KW_PREFIX, KW_START, IRIREF, PNAME_NS, PNAME_LN, BLANK_NODE_LABEL}\n",
      "line 36:4 missing '}' at 'agschemas:Strength'\n",
      "line 48:4 extraneous input '}' expecting {<EOF>, KW_ABSTRACT, KW_BASE, KW_IMPORT, KW_PREFIX, KW_START, IRIREF, PNAME_NS, PNAME_LN, BLANK_NODE_LABEL}\n",
      "line 150:0 no viable alternative at input 'schema:latitude}'\n",
      "line 9:9 extraneous input '@productionShape' expecting {<EOF>, KW_ABSTRACT, KW_BASE, KW_IMPORT, KW_PREFIX, KW_START, IRIREF, PNAME_NS, PNAME_LN, BLANK_NODE_LABEL}\n",
      "line 36:4 missing '}' at 'agschemas:Strength'\n",
      "line 48:4 extraneous input '}' expecting {<EOF>, KW_ABSTRACT, KW_BASE, KW_IMPORT, KW_PREFIX, KW_START, IRIREF, PNAME_NS, PNAME_LN, BLANK_NODE_LABEL}\n",
      "line 150:0 no viable alternative at input 'schema:latitude}'\n"
     ]
    },
    {
     "ename": "AttributeError",
     "evalue": "'NoneType' object has no attribute '_is_valid'",
     "output_type": "error",
     "traceback": [
      "\u001B[0;31m---------------------------------------------------------------------------\u001B[0m",
      "\u001B[0;31mAttributeError\u001B[0m                            Traceback (most recent call last)",
      "Cell \u001B[0;32mIn[4], line 5\u001B[0m\n\u001B[1;32m      2\u001B[0m f \u001B[38;5;241m=\u001B[39m \u001B[38;5;28mopen\u001B[39m(\u001B[38;5;124m\"\u001B[39m\u001B[38;5;124mcotton/productionShape.shex\u001B[39m\u001B[38;5;124m\"\u001B[39m, \u001B[38;5;124m\"\u001B[39m\u001B[38;5;124mr\u001B[39m\u001B[38;5;124m\"\u001B[39m)\n\u001B[1;32m      3\u001B[0m shex \u001B[38;5;241m=\u001B[39m f\u001B[38;5;241m.\u001B[39mread()\n\u001B[0;32m----> 5\u001B[0m \u001B[43mshex2dot\u001B[49m\u001B[38;5;241;43m.\u001B[39;49m\u001B[43mshex2dot\u001B[49m\u001B[43m(\u001B[49m\u001B[43mshex\u001B[49m\u001B[43m,\u001B[49m\u001B[43m \u001B[49m\u001B[38;5;124;43m\"\u001B[39;49m\u001B[38;5;124;43mtest\u001B[39;49m\u001B[38;5;124;43m\"\u001B[39;49m\u001B[43m)\u001B[49m\u001B[38;5;241m.\u001B[39mview()\n",
      "File \u001B[0;32m~/projects/scheduled-bots/venv/lib/python3.8/site-packages/shexviz/shex2dot.py:137\u001B[0m, in \u001B[0;36mshex2dot\u001B[0;34m(shex, graphviz_name, format, rankdir)\u001B[0m\n\u001B[1;32m    135\u001B[0m loader \u001B[38;5;241m=\u001B[39m SchemaLoader()\n\u001B[1;32m    136\u001B[0m schema \u001B[38;5;241m=\u001B[39m loader\u001B[38;5;241m.\u001B[39mloads(shex)\n\u001B[0;32m--> 137\u001B[0m \u001B[38;5;28mprint\u001B[39m(\u001B[38;5;124mf\u001B[39m\u001B[38;5;124m\"\u001B[39m\u001B[38;5;124mValid: \u001B[39m\u001B[38;5;132;01m{\u001B[39;00mschema\u001B[38;5;241m.\u001B[39m_is_valid()\u001B[38;5;132;01m}\u001B[39;00m\u001B[38;5;124m\"\u001B[39m)\n\u001B[1;32m    138\u001B[0m \u001B[38;5;28mprint\u001B[39m(schema\u001B[38;5;241m.\u001B[39mshapes[\u001B[38;5;241m0\u001B[39m]\u001B[38;5;241m.\u001B[39mexpression\u001B[38;5;241m.\u001B[39mexpressions)\n\u001B[1;32m    139\u001B[0m \u001B[38;5;28;01mfor\u001B[39;00m shape \u001B[38;5;129;01min\u001B[39;00m schema\u001B[38;5;241m.\u001B[39mshapes:\n",
      "\u001B[0;31mAttributeError\u001B[0m: 'NoneType' object has no attribute '_is_valid'"
     ]
    }
   ],
   "source": [
    "from shexviz import shex2dot\n",
    "f = open(\"cotton/productionShape.shex\", \"r\")\n",
    "shex = f.read()\n",
    "\n",
    "shex2dot.shex2dot(shex, \"test\").view()"
   ],
   "metadata": {
    "collapsed": false,
    "pycharm": {
     "name": "#%%\n"
    }
   }
  },
  {
   "cell_type": "code",
   "execution_count": null,
   "outputs": [],
   "source": [
    "OBJECTID\n",
    "Date of planting\n",
    "Date of harvest\n",
    "ValuePerac\n",
    "SeedingRatePerAcre\n",
    "PercentBallOpened\n"
   ],
   "metadata": {
    "collapsed": false,
    "pycharm": {
     "name": "#%%\n"
    }
   }
  }
 ],
 "metadata": {
  "kernelspec": {
   "display_name": "Python 3",
   "language": "python",
   "name": "python3"
  },
  "language_info": {
   "codemirror_mode": {
    "name": "ipython",
    "version": 2
   },
   "file_extension": ".py",
   "mimetype": "text/x-python",
   "name": "python",
   "nbconvert_exporter": "python",
   "pygments_lexer": "ipython2",
   "version": "2.7.6"
  }
 },
 "nbformat": 4,
 "nbformat_minor": 0
}